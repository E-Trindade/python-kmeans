{
 "cells": [
  {
   "cell_type": "code",
   "execution_count": 1,
   "metadata": {},
   "outputs": [],
   "source": [
    "import numpy as np"
   ]
  },
  {
   "cell_type": "code",
   "execution_count": 43,
   "metadata": {},
   "outputs": [],
   "source": [
    "class KMeans():\n",
    "    def __init__(self):\n",
    "        self.centroids = []\n",
    "        self.distance_function = None\n",
    "        self.max_iterations = 10000\n",
    "    \n",
    "    def initialize_random(self, centroid_number, data):\n",
    "        data_count, dimensions = data.shape\n",
    "        selected_rows = np.random.choice(range(data_count), centroid_number)\n",
    "        self.centroids = data[selected_rows]\n",
    "        return self\n",
    "        \n",
    "    def initialize_plus_plus(self, centroid_number, data):\n",
    "        self.centroids = np.random.choice(data, centroid_number)\n",
    "        return self\n",
    "\n",
    "    def with_euclidian_distance(self):\n",
    "        self.distance_function = np.linalg.norm\n",
    "        return self\n",
    "    \n",
    "    def set_max_iterations(self, iterations):\n",
    "        self.max_iterations = iterations\n",
    "        return self\n",
    "\n",
    "    def train(self, X):\n",
    "        current_iteration = 0\n",
    "        while(current_iteration < self.max_iterations):\n",
    "            self.fit(X)\n",
    "            current_iteration += 1\n",
    "        return self\n",
    "    \n",
    "    def predict(self, x):\n",
    "        group_id, bmu = self.get_bmu(x)\n",
    "        return group_id\n",
    "\n",
    "    def get_bmu(self, x):\n",
    "        bmu_id, bmu, bmu_dist = 0, self.centroids[0], self.distance_function(self.centroids[0] - x)\n",
    "        for i, c in enumerate(self.centroids[1:]):\n",
    "            c_dist = self.distance_function(c - x)\n",
    "            if c_dist < bmu_dist:\n",
    "                bmu_id, bmu, bmu_dist = i, c, c_dist\n",
    "        return bmu_id, bmu\n",
    "\n",
    "    def fit(self, X):\n",
    "        groups = [[] for i in self.centroids]\n",
    "        for x in X:\n",
    "            bmu_id, _ = self.get_bmu(x)\n",
    "            groups[bmu_id].append(x)\n",
    "        \n",
    "        for group_id, _ in enumerate(groups):\n",
    "            group_mean = np.mean(groups[group_id], 0) if len(groups[group_id]) > 0 else None\n",
    "            if group_mean is not None:\n",
    "                self.centroids[group_id] = group_mean"
   ]
  },
  {
   "cell_type": "code",
   "execution_count": 3,
   "metadata": {},
   "outputs": [],
   "source": [
    "def read_data(path):\n",
    "    x = np.genfromtxt(path, delimiter=',', skip_header=1)\n",
    "    x = np.delete(x, 0, axis=1)\n",
    "    return x"
   ]
  },
  {
   "cell_type": "code",
   "execution_count": 4,
   "metadata": {},
   "outputs": [
    {
     "data": {
      "text/plain": [
       "(737, 1369)"
      ]
     },
     "execution_count": 4,
     "metadata": {},
     "output_type": "execute_result"
    }
   ],
   "source": [
    "data = read_data('data/bbc/BsaidaBin98.csv')\n",
    "data.shape"
   ]
  },
  {
   "cell_type": "code",
   "execution_count": 11,
   "metadata": {},
   "outputs": [
    {
     "name": "stdout",
     "output_type": "stream",
     "text": [
      "[405  56 125 635 527]\n"
     ]
    },
    {
     "data": {
      "text/plain": [
       "array([[0.12890095, 0.03934871, 0.09090909, ..., 0.02306649, 0.02442334,\n",
       "        0.02170963],\n",
       "       [0.        , 0.        , 0.        , ..., 0.        , 0.        ,\n",
       "        0.        ],\n",
       "       [0.        , 0.        , 0.        , ..., 0.        , 0.        ,\n",
       "        0.        ],\n",
       "       [0.        , 0.        , 0.        , ..., 0.        , 0.        ,\n",
       "        0.        ],\n",
       "       [0.        , 0.        , 0.        , ..., 0.        , 0.        ,\n",
       "        0.        ]])"
      ]
     },
     "execution_count": 11,
     "metadata": {},
     "output_type": "execute_result"
    }
   ],
   "source": [
    "kmeans = KMeans() \\\n",
    "            .initialize_random(5 ,data) \\\n",
    "            .with_euclidian_distance() \\\n",
    "            .set_max_iterations(5) \\\n",
    "            .train(data)\n",
    "kmeans.centroids"
   ]
  },
  {
   "cell_type": "markdown",
   "metadata": {},
   "source": [
    "## Toy datasets"
   ]
  },
  {
   "cell_type": "code",
   "execution_count": 44,
   "metadata": {},
   "outputs": [
    {
     "data": {
      "image/png": "[encoded data removed]",
      "text/plain": [
       "<Figure size 360x360 with 1 Axes>"
      ]
     },
     "metadata": {},
     "output_type": "display_data"
    }
   ],
   "source": [
    "import matplotlib.pyplot as plt\n",
    "from sklearn import cluster, datasets, mixture\n",
    "from itertools import cycle, islice\n",
    "%matplotlib inline\n",
    "\n",
    "blobs = datasets.make_blobs(n_samples=50, centers=5, random_state=20)\n",
    "fig = plt.figure(figsize=(5, 5))\n",
    "\n",
    "# plt.subplots_adjust(left=.02, right=.98, bottom=.001, top=.96, wspace=.05,\n",
    "#                     hspace=.01)\n",
    "X, y = blobs\n",
    "\n",
    "kmeans = KMeans() \\\n",
    "            .initialize_random(25, X) \\\n",
    "            .with_euclidian_distance() \\\n",
    "            .set_max_iterations(100) \\\n",
    "            .train(X)\n",
    "\n",
    "\n",
    "y_pred = [kmeans.predict(x) for x, y_label in zip(X, y)]\n",
    "\n",
    "colors = np.array(list(islice(cycle(['#377eb8', '#ff7f00', '#4daf4a',\n",
    "                                             '#f781bf', '#a65628', '#984ea3',\n",
    "                                             '#999999', '#e41a1c', '#dede00']),\n",
    "                                      int(max(y_pred) + 1))))\n",
    "\n",
    "plt.scatter(X[:, 0], X[:, 1], color=colors[y_pred])\n",
    "for i, centroid in enumerate(kmeans.centroids):\n",
    "    circle = plt.Circle(centroid, 0.2, color='black')\n",
    "    ax = fig.gca()\n",
    "    ax.add_artist(circle)\n",
    "\n",
    "\n",
    "plt.show()"
   ]
  },
  {
   "cell_type": "code",
   "execution_count": null,
   "metadata": {},
   "outputs": [],
   "source": []
  }
 ],
 "metadata": {
  "kernelspec": {
   "display_name": "Python 3",
   "language": "python",
   "name": "python3"
  },
  "language_info": {
   "codemirror_mode": {
    "name": "ipython",
    "version": 3
   },
   "file_extension": ".py",
   "mimetype": "text/x-python",
   "name": "python",
   "nbconvert_exporter": "python",
   "pygments_lexer": "ipython3",
   "version": "3.6.5"
  }
 },
 "nbformat": 4,
 "nbformat_minor": 2
}

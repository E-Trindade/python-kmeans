{
 "cells": [
  {
   "cell_type": "code",
   "execution_count": 27,
   "metadata": {},
   "outputs": [],
   "source": [
    "import numpy as np\n",
    "import scipy as scp\n",
    "\n",
    "import math\n",
    "import multiprocessing "
   ]
  },
  {
   "cell_type": "code",
   "execution_count": 48,
   "metadata": {},
   "outputs": [],
   "source": [
    "def translate_p_s(t, group, other_clusters):\n",
    "    return process_sillhouete(t[0], t[1], group, other_clusters)\n",
    "\n",
    "def process_sillhouete(x_i, x_tuple, group, other_clusters):\n",
    "    x_identifier, x = x_tuple['i'], x_tuple['x']\n",
    "    group_without_x = np.delete(group, x_i, axis=0)\n",
    "    average_intra_cluster_distance = np.mean([np.linalg.norm(x - y['x']) for y in group_without_x])\n",
    "\n",
    "    neighbor_clusters_medium_distances= [np.mean([np.linalg.norm(x - y['x']) for y in neighbor]) for neighbor in other_clusters]\n",
    "    min_average_extra_cluster_distance = np.amin(neighbor_clusters_medium_distances) if len(neighbor_clusters_medium_distances) > 0 else 0\n",
    "\n",
    "    x_score = (min_average_extra_cluster_distance - average_intra_cluster_distance) / max(min_average_extra_cluster_distance, average_intra_cluster_distance)\n",
    "    return x_identifier, x_score\n",
    "\n",
    "class KMeans():\n",
    "    def __init__(self):\n",
    "        self.centroids = []\n",
    "        self.distance_function = None\n",
    "        self.max_iterations = 0\n",
    "        self.min_adjustment = 0\n",
    "    \n",
    "    \n",
    "    def with_euclidian_distance(self):\n",
    "        self.distance_function = lambda x, y: np.linalg.norm(np.array(x) - np.array(y), axis=0)\n",
    "        return self\n",
    "    \n",
    "    def with_cosin_similarity(self):\n",
    "        self.distance_function = lambda x, y: scp.spatial.distance.cosine(np.array(x), np.array(y))\n",
    "        return self\n",
    "    \n",
    "    def set_max_iterations(self, iterations):\n",
    "        self.max_iterations = iterations\n",
    "        return self\n",
    "    \n",
    "    def set_min_adjustment(self, adjustment):\n",
    "        self.min_adjustment = adjustment\n",
    "        return self\n",
    "    \n",
    "    def initialize_random(self, centroid_number, data):\n",
    "        data_count, dimensions = data.shape\n",
    "        selected_rows = np.random.randint(0, data_count, centroid_number)\n",
    "        self.centroids = data[selected_rows]\n",
    "        return self\n",
    "    \n",
    "    def initialize_plus_plus(self, centroid_number, data):\n",
    "        data_count, dimensions = data.shape\n",
    "        self.centroids = [data[np.random.randint(0, data_count)]]\n",
    "        \n",
    "        for _ in range(centroid_number - 1):\n",
    "            squared_distances_to_bmus = np.array([self.distance_function(x, self.get_bmu(x)[1]) ** 2 for x in data])\n",
    "            probabilities = squared_distances_to_bmus / squared_distances_to_bmus.sum()\n",
    "            probabilites_accumulated = probabilities.cumsum()\n",
    "            \n",
    "            r = np.random.random()\n",
    "            ind = np.where(probabilites_accumulated >= r)[0][0]\n",
    "            self.centroids.append(data[ind])\n",
    "        return self\n",
    "\n",
    "    def train(self, X):\n",
    "        finished = False\n",
    "        current_iteration = 0\n",
    "        while not finished:\n",
    "            adjustment = self.fit(X)\n",
    "            current_iteration += 1\n",
    "            if self.max_iterations > 0 and current_iteration > self.max_iterations:\n",
    "                finished = True\n",
    "\n",
    "            if adjustment <= self.min_adjustment:\n",
    "                finished = True\n",
    "\n",
    "        return self, current_iteration\n",
    "    \n",
    "    def predict(self, x):\n",
    "        group_id, bmu = self.get_bmu(x)\n",
    "        return group_id, bmu\n",
    "\n",
    "    def get_bmu(self, x):\n",
    "        bmu_id, bmu, bmu_dist = 0, self.centroids[0], self.distance_function(self.centroids[0], x)\n",
    "        for i, c in enumerate(self.centroids[1:], 1):\n",
    "            c_dist = self.distance_function(c, x)\n",
    "            if c_dist < bmu_dist:\n",
    "                bmu_id, bmu, bmu_dist = i, c, c_dist\n",
    "        return bmu_id, bmu\n",
    "\n",
    "    def fit(self, X):\n",
    "        groups = [[] for i in self.centroids]\n",
    "        for x in X:\n",
    "            bmu_id, _ = self.get_bmu(x)\n",
    "            groups[bmu_id].append(x)\n",
    "        \n",
    "        adjustment = 0\n",
    "        for group_id, _ in enumerate(groups):\n",
    "            group_mean = np.mean(groups[group_id], 0) if len(groups[group_id]) > 0 else None\n",
    "            if group_mean is not None:\n",
    "                adjustment += self.distance_function(self.centroids[group_id], group_mean)\n",
    "                self.centroids[group_id] = group_mean\n",
    "        \n",
    "        self.groups = groups\n",
    "        return adjustment\n",
    "    \n",
    "    def get_squared_mean_error(self, X):\n",
    "        error = 0\n",
    "        c = 0\n",
    "        for x in X:\n",
    "            error += self.distance_function(x, self.get_bmu(x)[1]) ** 2\n",
    "            c += 1\n",
    "        return error / c \n",
    "    \n",
    "    def get_bic_score(self, X):\n",
    "        data_count, dimensions = X.shape\n",
    "        log_likelihood = self.get_log_likehood(data_count, dimensions, self.groups, self.centroids)\n",
    "        \n",
    "        num_free_params = len(self.groups) * (dimensions + 1)\n",
    "        return log_likelihood - num_free_params / 2.0 * np.log(data_count)\n",
    "\n",
    "    def get_log_likehood(self, data_count, dimensions, groups, centroids):\n",
    "        ll = 0\n",
    "        for group in groups:\n",
    "            fRn = len(group)\n",
    "            \n",
    "            t1 = fRn * np.log(fRn)\n",
    "            t2 = fRn * np.log(data_count)\n",
    "            \n",
    "            variance = max(self._cluster_variance(data_count, dimensions, groups, centroids), np.nextafter(0, 1))\n",
    "            t3 = variance * (fRn * dimensions / 2.0) * np.log(2.0 * np.pi)\n",
    "            t4 = (dimensions * (fRn - 1.0) / 2.0)\n",
    "            ll += t1 - t2 - t3 - t4\n",
    "                                                              \n",
    "        return ll\n",
    "\n",
    "    def _cluster_variance(self, data_count, dimensions, groups, centroids):\n",
    "        s = 0\n",
    "        for group, centroid in zip(groups, centroids):\n",
    "            s += sum([self.distance_function(x, centroid) ** 2 for x in group])\n",
    "        return s / float(data_count - len(centroids)) * dimensions\n",
    "    \n",
    "    def get_sillhouete_score(self, X):\n",
    "        with multiprocessing.Pool(processes=5) as pool:\n",
    "            self.groups = [[] for i in self.centroids]\n",
    "            for i, x in enumerate(X):\n",
    "                bmu_id, _ = self.get_bmu(x)\n",
    "                self.groups[bmu_id].append({'i': i, 'x': x})\n",
    "\n",
    "            indexes = []\n",
    "            for i, group in enumerate(self.groups):\n",
    "                other_clusters = np.delete(self.groups, i, axis=0)\n",
    "                s = X.shape[0]\n",
    "                s_group = pool.starmap(translate_p_s, zip(enumerate(group), [group for _ in range(s)], [other_clusters for _ in range(s)]))\n",
    "                indexes.append(s_group)\n",
    "            return indexes\n"
   ]
  },
  {
   "cell_type": "code",
   "execution_count": 49,
   "metadata": {},
   "outputs": [],
   "source": [
    "import copy\n",
    "class XMeans(KMeans):\n",
    "    \n",
    "    def create_k_means_copy(self):\n",
    "        instance = KMeans()\n",
    "        instance.centroids = copy.deepcopy(self.centroids)\n",
    "        instance.distance_function = self.distance_function\n",
    "        instance.max_iterations = self.max_iterations\n",
    "        instance.min_adjustment = self.min_adjustment\n",
    "        return instance\n",
    "    \n",
    "    def set_centroid_estimation_range(self, minimum, maximum):\n",
    "        self.minimum = minimum\n",
    "        self.maximum = maximum\n",
    "        return self\n",
    "    \n",
    "    def train(self, X):\n",
    "        self.initialize_plus_plus(self.minimum, X)\n",
    "\n",
    "        super().train(X)\n",
    "        \n",
    "        k = 0\n",
    "        while len(self.centroids) < self.maximum:\n",
    "            old_len = len(self.centroids)\n",
    "            self.centroids = self.plan_new_centroids(X)\n",
    "            \n",
    "            super().train(X)\n",
    "            \n",
    "            if len(self.centroids) == old_len:\n",
    "                k += 1\n",
    "            if k == 10:\n",
    "                break\n",
    "            else:\n",
    "                k = 0\n",
    "        return self, len(self.centroids)\n",
    "    \n",
    "    def plan_new_centroids(self, X):\n",
    "\n",
    "        new_centroids = []\n",
    "        for i, old_centroid in enumerate(self.centroids):\n",
    "            if len(new_centroids) >= self.maximum - 1:\n",
    "                break\n",
    "                \n",
    "            pre_split_kmeans = self.create_k_means_copy()\n",
    "            hipotesis_kmeans = self.create_k_means_copy()\n",
    "    \n",
    "            x_in_centroid_group = np.array([x for x in X if hipotesis_kmeans.predict(x)[0] == i])\n",
    "            \n",
    "            pre_split_kmeans.centroids = [old_centroid]\n",
    "            \n",
    "            data_count, _ = x_in_centroid_group.shape\n",
    "            delta_vector = x_in_centroid_group[np.random.randint(0, data_count)]\n",
    "            \n",
    "            hipotesis_kmeans.centroids = [delta_vector, 2 * np.array(old_centroid) - np.array(delta_vector)]\n",
    "            \n",
    "            pre_split_kmeans.train(x_in_centroid_group)\n",
    "            hipotesis_kmeans.train(x_in_centroid_group)\n",
    "            \n",
    "            # Compare pre_split and post_split models\n",
    "            if hipotesis_kmeans.get_bic_score(X) > pre_split_kmeans.get_bic_score(X):\n",
    "                new_centroids += hipotesis_kmeans.centroids\n",
    "            else:\n",
    "                new_centroids += pre_split_kmeans.centroids\n",
    "        return new_centroids"
   ]
  },
  {
   "cell_type": "code",
   "execution_count": 30,
   "metadata": {},
   "outputs": [],
   "source": [
    "def read_data(path):\n",
    "    x = np.genfromtxt(path, delimiter=',', skip_header=1)\n",
    "    x = np.delete(x, 0, axis=1)\n",
    "    return x"
   ]
  },
  {
   "cell_type": "code",
   "execution_count": 31,
   "metadata": {},
   "outputs": [
    {
     "data": {
      "text/plain": [
       "(737, 1369)"
      ]
     },
     "execution_count": 31,
     "metadata": {},
     "output_type": "execute_result"
    }
   ],
   "source": [
    "data = read_data('data/bbc/BsaidaBin98.csv')\n",
    "data.shape"
   ]
  },
  {
   "cell_type": "markdown",
   "metadata": {},
   "source": [
    "## Toy datasets"
   ]
  },
  {
   "cell_type": "code",
   "execution_count": 32,
   "metadata": {},
   "outputs": [],
   "source": [
    "import matplotlib.pyplot as plt\n",
    "from sklearn import cluster, datasets, mixture\n",
    "from itertools import cycle, islice\n",
    "%matplotlib inline\n",
    "np.random.seed(555)\n",
    "blobs = datasets.make_blobs(n_samples=50, centers=5)\n",
    "#blobs = np.random.random((50, 2)) * 10, 1\n",
    "\n",
    "\n",
    "X, y = blobs\n",
    "\n",
    "def test_instance(instance, X=X, y=y):\n",
    "    fig = plt.figure(figsize=(5, 5))\n",
    "    predictions = [instance.predict(x) for x in X]\n",
    "    y_pred = [y for y, _ in predictions]\n",
    "\n",
    "    colors = np.array(list(islice(cycle(['#377eb8', '#ff7f00', '#4daf4a',\n",
    "                                                 '#f781bf', '#a65628', '#984ea3',\n",
    "                                                 '#999999', '#e41a1c', '#dede00']),\n",
    "                                          int(max(y_pred) + 1))))\n",
    "\n",
    "    plt.scatter(X[:, 0], X[:, 1], color=colors[y_pred])\n",
    "    for i, centroid in enumerate(instance.centroids):\n",
    "        square = plt.Rectangle(centroid, 0.21, 0.2, color='black')\n",
    "        fig.gca().add_artist(square)\n",
    "\n",
    "    sillhouetes = np.array([[i, val, g] for g, group in enumerate(instance.get_sillhouete_score(X)) for i, val in group ])\n",
    "    fig, ax = plt.subplots()\n",
    "    ax.barh(sillhouetes[:, 0].astype(str),sillhouetes[:, 1], align='center',\n",
    "            color=colors[sillhouetes[:, 2].astype(int)], ecolor='black')\n",
    "    #ax.set_yticks(y_pos)\n",
    "    ax.set_yticklabels([])\n",
    "    #ax.invert_yaxis()  # labels read top-to-bottom\n",
    "    ax.set_xlabel('S Score')\n",
    "    ax.set_title('S Score')\n",
    "\n",
    "    plt.show()"
   ]
  },
  {
   "cell_type": "code",
   "execution_count": 51,
   "metadata": {},
   "outputs": [
    {
     "name": "stdout",
     "output_type": "stream",
     "text": [
      "Trained in  3 iterations\n"
     ]
    },
    {
     "data": {
      "image/png": "[encoded data removed]",
      "text/plain": [
       "<Figure size 360x360 with 1 Axes>"
      ]
     },
     "metadata": {},
     "output_type": "display_data"
    },
    {
     "data": {
      "image/png": "[encoded data removed]",
      "text/plain": [
       "<Figure size 432x288 with 1 Axes>"
      ]
     },
     "metadata": {},
     "output_type": "display_data"
    }
   ],
   "source": [
    "\n",
    "kmeans, iterations = KMeans() \\\n",
    "            .initialize_random(5, X) \\\n",
    "            .with_euclidian_distance() \\\n",
    "            .train(X)\n",
    "            \n",
    "print('Trained in ', iterations, 'iterations')\n",
    "test_instance(kmeans)"
   ]
  },
  {
   "cell_type": "code",
   "execution_count": 52,
   "metadata": {},
   "outputs": [
    {
     "name": "stdout",
     "output_type": "stream",
     "text": [
      "Trained in  3 iterations\n"
     ]
    },
    {
     "data": {
      "image/png": "[encoded data removed]",
      "text/plain": [
       "<Figure size 360x360 with 1 Axes>"
      ]
     },
     "metadata": {},
     "output_type": "display_data"
    },
    {
     "data": {
      "image/png": "[encoded data removed]",
      "text/plain": [
       "<Figure size 432x288 with 1 Axes>"
      ]
     },
     "metadata": {},
     "output_type": "display_data"
    }
   ],
   "source": [
    "kmeans, iterations = KMeans() \\\n",
    "            .with_euclidian_distance() \\\n",
    "            .initialize_plus_plus(5, X) \\\n",
    "            .train(X)\n",
    "            \n",
    "print('Trained in ', iterations, 'iterations')\n",
    "test_instance(kmeans)"
   ]
  },
  {
   "cell_type": "code",
   "execution_count": 53,
   "metadata": {},
   "outputs": [
    {
     "name": "stdout",
     "output_type": "stream",
     "text": [
      "Created 5 centroids\n"
     ]
    },
    {
     "data": {
      "image/png": "[encoded data removed]",
      "text/plain": [
       "<Figure size 360x360 with 1 Axes>"
      ]
     },
     "metadata": {},
     "output_type": "display_data"
    },
    {
     "data": {
      "image/png": "[encoded data removed]",
      "text/plain": [
       "<Figure size 432x288 with 1 Axes>"
      ]
     },
     "metadata": {},
     "output_type": "display_data"
    }
   ],
   "source": [
    "\n",
    "kmeans, iterations = XMeans() \\\n",
    "            .with_euclidian_distance() \\\n",
    "            .set_centroid_estimation_range(1, 5) \\\n",
    "            .train(X)\n",
    "            \n",
    "print('Created', iterations, 'centroids')\n",
    "    \n",
    "test_instance(kmeans)"
   ]
  },
  {
   "cell_type": "code",
   "execution_count": 54,
   "metadata": {},
   "outputs": [
    {
     "data": {
      "text/plain": [
       "3.104150591994291"
      ]
     },
     "execution_count": 54,
     "metadata": {},
     "output_type": "execute_result"
    }
   ],
   "source": [
    "kmeans.get_squared_mean_error(X)"
   ]
  },
  {
   "cell_type": "code",
   "execution_count": 55,
   "metadata": {},
   "outputs": [],
   "source": [
    "import matplotlib.pyplot as plt\n",
    "from sklearn import cluster, datasets, mixture\n",
    "from itertools import cycle, islice\n",
    "%matplotlib inline\n",
    "\n",
    "\n",
    "def plot_elbow(error_table):\n",
    "    fig = plt.figure(figsize=(20, 20))\n",
    "\n",
    "    fig, ax = plt.subplots()\n",
    "    plt.scatter(error_table[:, 0].astype(str), error_table[:, 1], color='black')\n",
    "    ax.set_title('Elbow Score')\n",
    "\n",
    "    plt.show()\n",
    "\n",
    "def plot_silhouette(instance, X, title):\n",
    "    fig = plt.figure(figsize=(20, 20))\n",
    "    predictions = [instance.predict(x) for x in X]\n",
    "    y_pred = [y for y, _ in predictions]\n",
    "\n",
    "    colors = np.array(list(islice(cycle(['#377eb8', '#ff7f00', '#4daf4a',\n",
    "                                                 '#f781bf', '#a65628', '#984ea3',\n",
    "                                                 '#999999', '#e41a1c', '#dede00']),\n",
    "                                          int(max(y_pred) + 1))))\n",
    "    \n",
    "    \n",
    "    %timeit np.array([[i, val, g] for g, group in enumerate(instance.get_sillhouete_score(X)) for i, val in group ])\n",
    "    sillhouetes = np.array([[i, val, g] for g, group in enumerate(instance.get_sillhouete_score(X)) for i, val in group ])\n",
    "    \n",
    "    fig, ax = plt.subplots()\n",
    "    ax.barh(sillhouetes[:, 0].astype(str),sillhouetes[:, 1], align='center', color=colors[sillhouetes[:, 2].astype(int)], ecolor='black')\n",
    "    #ax.set_yticks(y_pos)\n",
    "    ax.set_yticklabels([])\n",
    "    #ax.invert_yaxis()  # labels read top-to-bottom\n",
    "    ax.set_xlabel('S Score')\n",
    "    ax.set_title(title + ' S Score')\n",
    "\n",
    "    plt.show()\n",
    "  "
   ]
  },
  {
   "cell_type": "code",
   "execution_count": null,
   "metadata": {},
   "outputs": [],
   "source": [
    "from os import listdir\n",
    "from os.path import isfile, join\n",
    "def get_files_in_folder(folder):\n",
    "     return [join(folder, f) for f in listdir(folder) if isfile(join(folder, f))]"
   ]
  },
  {
   "cell_type": "markdown",
   "metadata": {},
   "source": [
    "## BBC Dataset"
   ]
  },
  {
   "cell_type": "code",
   "execution_count": null,
   "metadata": {},
   "outputs": [
    {
     "name": "stdout",
     "output_type": "stream",
     "text": [
      "['data/bbc/BsaidaTFIDF99.csv', 'data/bbc/BsaidaTFIDF98.csv', 'data/bbc/BsaidaBin98.csv', 'data/bbc/BsaidaBin99.csv', 'data/bbc/BsaidaTF99.csv', 'data/bbc/BsaidaTF98.csv']\n",
      "File 0 of 6\n",
      "------------------------------- data/bbc/BsaidaTFIDF99.csv -------------------------------\n",
      "KMeans euclidian_distance, random initialization started training\n",
      "finished training\n",
      "done in 29 iterations\n",
      "7.92 s ± 86.3 ms per loop (mean ± std. dev. of 7 runs, 1 loop each)\n"
     ]
    },
    {
     "data": {
      "text/plain": [
       "<Figure size 1440x1440 with 0 Axes>"
      ]
     },
     "metadata": {},
     "output_type": "display_data"
    },
    {
     "data": {
      "image/png": "[encoded data removed]",
      "text/plain": [
       "<Figure size 432x288 with 1 Axes>"
      ]
     },
     "metadata": {},
     "output_type": "display_data"
    },
    {
     "name": "stdout",
     "output_type": "stream",
     "text": [
      "KMeans euclidian_distance, ++initialization started training\n",
      "finished training\n",
      "done in 13 iterations\n"
     ]
    },
    {
     "name": "stderr",
     "output_type": "stream",
     "text": [
      "Process ForkPoolWorker-118:\n",
      "Process ForkPoolWorker-117:\n",
      "Process ForkPoolWorker-119:\n",
      "Process ForkPoolWorker-120:\n",
      "Traceback (most recent call last):\n",
      "Traceback (most recent call last):\n",
      "Traceback (most recent call last):\n",
      "Traceback (most recent call last):\n",
      "  File \"/home/ec2-user/miniconda3/envs/text-clustering/lib/python3.6/multiprocessing/process.py\", line 258, in _bootstrap\n",
      "    self.run()\n",
      "  File \"/home/ec2-user/miniconda3/envs/text-clustering/lib/python3.6/multiprocessing/process.py\", line 258, in _bootstrap\n",
      "    self.run()\n",
      "  File \"/home/ec2-user/miniconda3/envs/text-clustering/lib/python3.6/multiprocessing/process.py\", line 258, in _bootstrap\n",
      "    self.run()\n",
      "Process ForkPoolWorker-116:\n",
      "  File \"/home/ec2-user/miniconda3/envs/text-clustering/lib/python3.6/multiprocessing/process.py\", line 258, in _bootstrap\n",
      "    self.run()\n",
      "  File \"/home/ec2-user/miniconda3/envs/text-clustering/lib/python3.6/multiprocessing/process.py\", line 93, in run\n",
      "    self._target(*self._args, **self._kwargs)\n",
      "  File \"/home/ec2-user/miniconda3/envs/text-clustering/lib/python3.6/multiprocessing/process.py\", line 93, in run\n",
      "    self._target(*self._args, **self._kwargs)\n",
      "  File \"/home/ec2-user/miniconda3/envs/text-clustering/lib/python3.6/multiprocessing/process.py\", line 93, in run\n",
      "    self._target(*self._args, **self._kwargs)\n",
      "Traceback (most recent call last):\n",
      "  File \"/home/ec2-user/miniconda3/envs/text-clustering/lib/python3.6/multiprocessing/pool.py\", line 108, in worker\n",
      "    task = get()\n",
      "  File \"/home/ec2-user/miniconda3/envs/text-clustering/lib/python3.6/multiprocessing/process.py\", line 93, in run\n",
      "    self._target(*self._args, **self._kwargs)\n",
      "  File \"/home/ec2-user/miniconda3/envs/text-clustering/lib/python3.6/multiprocessing/pool.py\", line 108, in worker\n",
      "    task = get()\n",
      "  File \"/home/ec2-user/miniconda3/envs/text-clustering/lib/python3.6/multiprocessing/pool.py\", line 108, in worker\n",
      "    task = get()\n",
      "  File \"/home/ec2-user/miniconda3/envs/text-clustering/lib/python3.6/multiprocessing/process.py\", line 258, in _bootstrap\n",
      "    self.run()\n",
      "  File \"/home/ec2-user/miniconda3/envs/text-clustering/lib/python3.6/multiprocessing/queues.py\", line 334, in get\n",
      "    with self._rlock:\n",
      "  File \"/home/ec2-user/miniconda3/envs/text-clustering/lib/python3.6/multiprocessing/pool.py\", line 119, in worker\n",
      "    result = (True, func(*args, **kwds))\n",
      "  File \"/home/ec2-user/miniconda3/envs/text-clustering/lib/python3.6/multiprocessing/queues.py\", line 334, in get\n",
      "    with self._rlock:\n",
      "  File \"/home/ec2-user/miniconda3/envs/text-clustering/lib/python3.6/multiprocessing/queues.py\", line 335, in get\n",
      "    res = self._reader.recv_bytes()\n",
      "  File \"/home/ec2-user/miniconda3/envs/text-clustering/lib/python3.6/multiprocessing/process.py\", line 93, in run\n",
      "    self._target(*self._args, **self._kwargs)\n",
      "  File \"/home/ec2-user/miniconda3/envs/text-clustering/lib/python3.6/multiprocessing/synchronize.py\", line 96, in __enter__\n",
      "    return self._semlock.__enter__()\n",
      "  File \"/home/ec2-user/miniconda3/envs/text-clustering/lib/python3.6/multiprocessing/pool.py\", line 47, in starmapstar\n",
      "    return list(itertools.starmap(args[0], args[1]))\n",
      "  File \"/home/ec2-user/miniconda3/envs/text-clustering/lib/python3.6/multiprocessing/synchronize.py\", line 96, in __enter__\n",
      "    return self._semlock.__enter__()\n",
      "  File \"/home/ec2-user/miniconda3/envs/text-clustering/lib/python3.6/multiprocessing/connection.py\", line 216, in recv_bytes\n",
      "    buf = self._recv_bytes(maxlength)\n",
      "  File \"/home/ec2-user/miniconda3/envs/text-clustering/lib/python3.6/multiprocessing/pool.py\", line 119, in worker\n",
      "    result = (True, func(*args, **kwds))\n",
      "  File \"<ipython-input-48-2b1683518538>\", line 2, in translate_p_s\n",
      "    return process_sillhouete(t[0], t[1], group, other_clusters)\n",
      "KeyboardInterrupt\n",
      "KeyboardInterrupt\n",
      "  File \"/home/ec2-user/miniconda3/envs/text-clustering/lib/python3.6/multiprocessing/connection.py\", line 407, in _recv_bytes\n",
      "    buf = self._recv(4)\n",
      "  File \"/home/ec2-user/miniconda3/envs/text-clustering/lib/python3.6/multiprocessing/pool.py\", line 47, in starmapstar\n",
      "    return list(itertools.starmap(args[0], args[1]))\n",
      "  File \"<ipython-input-48-2b1683518538>\", line 9, in process_sillhouete\n",
      "    neighbor_clusters_medium_distances= [np.mean([np.linalg.norm(x - y['x']) for y in neighbor]) for neighbor in other_clusters]\n",
      "  File \"/home/ec2-user/miniconda3/envs/text-clustering/lib/python3.6/multiprocessing/connection.py\", line 379, in _recv\n",
      "    chunk = read(handle, remaining)\n",
      "  File \"<ipython-input-48-2b1683518538>\", line 9, in <listcomp>\n",
      "    neighbor_clusters_medium_distances= [np.mean([np.linalg.norm(x - y['x']) for y in neighbor]) for neighbor in other_clusters]\n",
      "KeyboardInterrupt\n",
      "  File \"<ipython-input-48-2b1683518538>\", line 9, in <listcomp>\n",
      "    neighbor_clusters_medium_distances= [np.mean([np.linalg.norm(x - y['x']) for y in neighbor]) for neighbor in other_clusters]\n",
      "KeyboardInterrupt\n",
      "  File \"<ipython-input-48-2b1683518538>\", line 2, in translate_p_s\n",
      "    return process_sillhouete(t[0], t[1], group, other_clusters)\n",
      "  File \"<ipython-input-48-2b1683518538>\", line 9, in process_sillhouete\n",
      "    neighbor_clusters_medium_distances= [np.mean([np.linalg.norm(x - y['x']) for y in neighbor]) for neighbor in other_clusters]\n",
      "  File \"<ipython-input-48-2b1683518538>\", line 9, in <listcomp>\n",
      "    neighbor_clusters_medium_distances= [np.mean([np.linalg.norm(x - y['x']) for y in neighbor]) for neighbor in other_clusters]\n",
      "  File \"<ipython-input-48-2b1683518538>\", line 9, in <listcomp>\n",
      "    neighbor_clusters_medium_distances= [np.mean([np.linalg.norm(x - y['x']) for y in neighbor]) for neighbor in other_clusters]\n",
      "KeyboardInterrupt\n"
     ]
    }
   ],
   "source": [
    "CENTROIDS = 5\n",
    "MIN_CENTROIDS = 1\n",
    "MAX_CENTROIDS = 15\n",
    "\n",
    "def get_instances_kmeans(X, i):\n",
    "    return [\n",
    "         ('KMeans euclidian_distance, random initialization', KMeans().with_euclidian_distance().initialize_random(i, X)),\n",
    "         ('KMeans euclidian_distance, ++initialization', KMeans().with_euclidian_distance().initialize_plus_plus(i, X)),\n",
    "         ('KMeans cosine_similarity, random initialization', KMeans().with_cosin_similarity().initialize_random(i, X)),\n",
    "         ('KMeans cosine_similarity, ++initialization', KMeans().with_cosin_similarity().initialize_plus_plus(i, X))\n",
    "    ]\n",
    "def get_instances_xmeans(X, i):\n",
    "    return [\n",
    "         ('XMeans euclidian_distance', XMeans().with_euclidian_distance().set_centroid_estimation_range(MIN_CENTROIDS, MAX_CENTROIDS)),\n",
    "         ('XMeans cosine_similarity', XMeans().with_cosin_similarity().set_centroid_estimation_range(MIN_CENTROIDS, MAX_CENTROIDS))\n",
    "    ]\n",
    "\n",
    "files = get_files_in_folder('data/bbc')\n",
    "print(files)\n",
    "for i, f in enumerate(files):\n",
    "    print('File', i, 'of', len(files))\n",
    "    print('-------------------------------', f, '-------------------------------')\n",
    "    X = read_data(f)\n",
    "    \n",
    "    for desc, instance in get_instances_kmeans(X, CENTROIDS):\n",
    "        print(desc, 'started training')\n",
    "        instance, iterations = instance.train(X)\n",
    "        print('finished training')\n",
    "        print('done in', str(iterations), 'iterations')\n",
    "        \n",
    "        plot_silhouette(instance, X, desc)\n",
    "        \n",
    "    for desc, instance in get_instances_xmeans(X, CENTROIDS):\n",
    "        print(desc, 'started training')\n",
    "        instance, iterations = instance.train(X)\n",
    "        print('finished training')\n",
    "        print('done in', str(iterations), 'iterations')\n",
    "        \n",
    "        plot_silhouette(instance, X, desc)\n",
    "        \n",
    "print('finished')"
   ]
  },
  {
   "cell_type": "markdown",
   "metadata": {},
   "source": [
    "## Reuters"
   ]
  },
  {
   "cell_type": "code",
   "execution_count": null,
   "metadata": {},
   "outputs": [],
   "source": [
    "CENTROIDS = 5\n",
    "MIN_CENTROIDS = 1\n",
    "MAX_CENTROIDS = 15\n",
    "\n",
    "def get_instances_kmeans(X):\n",
    "    return [\n",
    "         ('KMeans euclidian_distance, random initialization', lambda i: KMeans().with_euclidian_distance().initialize_random(i, X)),\n",
    "         ('KMeans euclidian_distance, ++initialization', lambda i: KMeans().with_euclidian_distance().initialize_plus_plus(i, X)),\n",
    "         ('KMeans cosine_similarity, random initialization', lambda i: KMeans().with_cosin_similarity().initialize_random(i, X)),\n",
    "         ('KMeans cosine_similarity, ++initialization', lambda i: KMeans().with_cosin_similarity().initialize_plus_plus(i, X))\n",
    "    ]\n",
    "def get_instances_xmeans(X):\n",
    "    return [\n",
    "         ('XMeans euclidian_distance', lambda: XMeans().with_euclidian_distance().set_centroid_estimation_range(MIN_CENTROIDS, MAX_CENTROIDS)),\n",
    "         ('XMeans cosine_similarity', lambda: XMeans().with_cosin_similarity().set_centroid_estimation_range(MIN_CENTROIDS, MAX_CENTROIDS))\n",
    "    ]\n",
    "\n",
    "files = get_files_in_folder('data/reuters')\n",
    "print(files)\n",
    "for i, f in enumerate(files):\n",
    "    print('File', i, 'of', len(files))\n",
    "    print('-------------------------------', f, '-------------------------------')\n",
    "    X = read_data(f)\n",
    "    \n",
    "    for desc, instance_f in get_instances_kmeans(X):\n",
    "        instance = instance_f(CENTROIDS)\n",
    "        print(desc, 'started training')\n",
    "        instance, iterations = instance.train(X)\n",
    "        print('finished training')\n",
    "        print('done in', str(iterations), 'iterations')\n",
    "        \n",
    "        plot_silhouette(instance, X, desc)\n",
    "        \n",
    "    for desc, instance_f in get_instances_xmeans(X):\n",
    "        instance = instance_f()\n",
    "        print(desc, 'started training')\n",
    "        instance, iterations = instance.train(X)\n",
    "        print('finished training')\n",
    "        print('done in', str(iterations), 'iterations')\n",
    "        \n",
    "        plot_silhouette(instance, X, desc)\n",
    "        \n",
    "print('finished')"
   ]
  },
  {
   "cell_type": "code",
   "execution_count": null,
   "metadata": {},
   "outputs": [],
   "source": []
  }
 ],
 "metadata": {
  "kernelspec": {
   "display_name": "Python 3",
   "language": "python",
   "name": "python3"
  },
  "language_info": {
   "codemirror_mode": {
    "name": "ipython",
    "version": 3
   },
   "file_extension": ".py",
   "mimetype": "text/x-python",
   "name": "python",
   "nbconvert_exporter": "python",
   "pygments_lexer": "ipython3",
   "version": "3.6.5"
  }
 },
 "nbformat": 4,
 "nbformat_minor": 2
}

{
 "cells": [
  {
   "cell_type": "code",
   "execution_count": 1,
   "metadata": {},
   "outputs": [],
   "source": [
    "import numpy as np"
   ]
  },
  {
   "cell_type": "code",
   "execution_count": 145,
   "metadata": {},
   "outputs": [],
   "source": [
    "class KMeans():\n",
    "    def __init__(self):\n",
    "        self.centroids = []\n",
    "        self.distance_function = None\n",
    "        self.max_iterations = 0\n",
    "        self.min_adjustment = 0\n",
    "    \n",
    "    def with_euclidian_distance(self):\n",
    "        self.distance_function = np.linalg.norm\n",
    "        return self\n",
    "    \n",
    "    def set_max_iterations(self, iterations):\n",
    "        self.max_iterations = iterations\n",
    "        return self\n",
    "    \n",
    "    def set_min_adjustment(self, adjustment):\n",
    "        self.min_adjustment = adjustment\n",
    "        return self\n",
    "    \n",
    "    def initialize_random(self, centroid_number, data):\n",
    "        data_count, dimensions = data.shape\n",
    "        selected_rows = np.random.randint(0, data_count, centroid_number)\n",
    "        self.centroids = data[selected_rows]\n",
    "        return self\n",
    "    \n",
    "    def initialize_plus_plus(self, centroid_number, data):\n",
    "        data_count, dimensions = data.shape\n",
    "        self.centroids = [data[np.random.randint(0, data_count)]]\n",
    "        \n",
    "        for _ in range(centroid_number - 1):\n",
    "            squared_distances_to_bmus = np.array([self.distance_function(x - self.get_bmu(x)[1]) ** 2 for x in data])\n",
    "            probabilities = squared_distances_to_bmus / squared_distances_to_bmus.sum()\n",
    "            probabilites_accumulated = probabilities.cumsum()\n",
    "            \n",
    "            r = np.random.random()\n",
    "            ind = np.where(probabilites_accumulated >= r)[0][0]\n",
    "            self.centroids.append(data[ind])\n",
    "        return self\n",
    "\n",
    "    def train(self, X):\n",
    "        finished = False\n",
    "        current_iteration = 0\n",
    "        while not finished:\n",
    "            adjustment = self.fit(X)\n",
    "            current_iteration += 1\n",
    "            if self.max_iterations > 0 and current_iteration > self.max_iterations:\n",
    "                finished = True\n",
    "\n",
    "            if adjustment <= self.min_adjustment:\n",
    "                finished = True\n",
    "\n",
    "        return self, current_iteration\n",
    "    \n",
    "    def predict(self, x):\n",
    "        group_id, bmu = self.get_bmu(x)\n",
    "        return group_id, bmu\n",
    "\n",
    "    def get_bmu(self, x):\n",
    "        bmu_id, bmu, bmu_dist = 0, self.centroids[0], self.distance_function(self.centroids[0] - x)\n",
    "        for i, c in enumerate(self.centroids[1:], 1):\n",
    "            c_dist = self.distance_function(c - x)\n",
    "            if c_dist < bmu_dist:\n",
    "                bmu_id, bmu, bmu_dist = i, c, c_dist\n",
    "        return bmu_id, bmu\n",
    "\n",
    "    def fit(self, X):\n",
    "        groups = [[] for i in self.centroids]\n",
    "        for x in X:\n",
    "            bmu_id, _ = self.get_bmu(x)\n",
    "            groups[bmu_id].append(x)\n",
    "        \n",
    "        adjustment = 0\n",
    "        for group_id, _ in enumerate(groups):\n",
    "            group_mean = np.mean(groups[group_id], 0) if len(groups[group_id]) > 0 else None\n",
    "            if group_mean is not None:\n",
    "                adjustment += self.distance_function(self.centroids[group_id] - group_mean)\n",
    "                self.centroids[group_id] = group_mean\n",
    "        return adjustment\n",
    "    \n",
    "    def get_error(self, X):\n",
    "        error = 0\n",
    "        for x in X:\n",
    "            error += self.distance_function(x - self.get_bmu(x)[1])\n",
    "        return error"
   ]
  },
  {
   "cell_type": "code",
   "execution_count": 147,
   "metadata": {},
   "outputs": [],
   "source": [
    "import copy\n",
    "class XMeans(KMeans):\n",
    "    \n",
    "    def create_k_means_copy(self):\n",
    "        instance = KMeans()\n",
    "        instance.centroids = copy.deepcopy(self.centroids)\n",
    "        instance.distance_function = self.distance_function\n",
    "        instance.max_iterations = self.max_iterations\n",
    "        instance.min_adjustment = self.min_adjustment\n",
    "        return instance\n",
    "    \n",
    "    def set_centroid_estimation_range(self, minimum, maximum):\n",
    "        self.minimum = minimum\n",
    "        self.maximum = maximum\n",
    "        return self\n",
    "    \n",
    "    def train(self, X):\n",
    "        current_estimation = self.minimum\n",
    "        \n",
    "        self.initialize_plus_plus(current_estimation, X)\n",
    "\n",
    "        super().train(X)\n",
    "        \n",
    "        \n",
    "        while len(self.centroids) < self.maximum:\n",
    "            old_len = len(self.centroids)\n",
    "            self.centroids = self.plan_new_centroids(X)\n",
    "\n",
    "        return self, current_estimation\n",
    "    \n",
    "    def plan_new_centroids(self, X):\n",
    "\n",
    "        new_centroids = []\n",
    "        for i, old_centroid in enumerate(self.centroids):\n",
    "            if len(new_centroids) >= self.maximum - 1:\n",
    "                break\n",
    "                \n",
    "            pre_split_kmeans = self.create_k_means_copy()\n",
    "            hipotesis_kmeans = self.create_k_means_copy()\n",
    "    \n",
    "            x_in_centroid_group = np.array([x for x in X if hipotesis_kmeans.predict(x)[0] == i])\n",
    "            \n",
    "            pre_split_kmeans.centroids = [old_centroid]\n",
    "            \n",
    "            data_count, _ = x_in_centroid_group.shape\n",
    "            delta_vector = x_in_centroid_group[np.random.randint(0, data_count)]\n",
    "            \n",
    "            hipotesis_kmeans.centroids = [delta_vector, 2 * np.array(old_centroid) - np.array(delta_vector)]\n",
    "            \n",
    "            hipotesis_kmeans.train(x_in_centroid_group)\n",
    "            \n",
    "            # Compare pre_split and post_split models\n",
    "            if hipotesis_kmeans.get_error(X) < pre_split_kmeans.get_error(X):\n",
    "                new_centroids += hipotesis_kmeans.centroids\n",
    "            else:\n",
    "                new_centroids += pre_split_kmeans.centroids\n",
    "        return new_centroids"
   ]
  },
  {
   "cell_type": "code",
   "execution_count": 3,
   "metadata": {},
   "outputs": [],
   "source": [
    "def read_data(path):\n",
    "    x = np.genfromtxt(path, delimiter=',', skip_header=1)\n",
    "    x = np.delete(x, 0, axis=1)\n",
    "    return x"
   ]
  },
  {
   "cell_type": "code",
   "execution_count": 4,
   "metadata": {},
   "outputs": [
    {
     "data": {
      "text/plain": [
       "(737, 1369)"
      ]
     },
     "execution_count": 4,
     "metadata": {},
     "output_type": "execute_result"
    }
   ],
   "source": [
    "data = read_data('data/bbc/BsaidaBin98.csv')\n",
    "data.shape"
   ]
  },
  {
   "cell_type": "markdown",
   "metadata": {},
   "source": [
    "## Toy datasets"
   ]
  },
  {
   "cell_type": "code",
   "execution_count": 102,
   "metadata": {},
   "outputs": [
    {
     "name": "stdout",
     "output_type": "stream",
     "text": [
      "Trained in  6 iterations\n"
     ]
    },
    {
     "data": {
      "image/png": "[encoded data removed]",
      "text/plain": [
       "<Figure size 360x360 with 1 Axes>"
      ]
     },
     "metadata": {},
     "output_type": "display_data"
    }
   ],
   "source": [
    "import matplotlib.pyplot as plt\n",
    "from sklearn import cluster, datasets, mixture\n",
    "from itertools import cycle, islice\n",
    "%matplotlib inline\n",
    "np.random.seed(1)\n",
    "#blobs = datasets.make_blobs(n_samples=50, centers=5, random_state=20)\n",
    "blobs = np.random.random((50, 2)) * 10, 1\n",
    "fig = plt.figure(figsize=(5, 5))\n",
    "\n",
    "X, y = blobs\n",
    "\n",
    "kmeans, iterations = KMeans() \\\n",
    "            .initialize_random(5, X) \\\n",
    "            .with_euclidian_distance() \\\n",
    "            .train(X)\n",
    "            \n",
    "print('Trained in ', iterations, 'iterations')\n",
    "    \n",
    "predictions = [kmeans.predict(x) for x in X]\n",
    "y_pred = [y for y, _ in predictions]\n",
    "\n",
    "colors = np.array(list(islice(cycle(['#377eb8', '#ff7f00', '#4daf4a',\n",
    "                                             '#f781bf', '#a65628', '#984ea3',\n",
    "                                             '#999999', '#e41a1c', '#dede00']),\n",
    "                                      int(max(y_pred) + 1))))\n",
    "\n",
    "plt.scatter(X[:, 0], X[:, 1], color=colors[y_pred])\n",
    "for i, centroid in enumerate(kmeans.centroids):\n",
    "    square = plt.Rectangle(centroid, 0.21, 0.2, color='black')\n",
    "    fig.gca().add_artist(square)\n",
    "\n",
    "plt.show()"
   ]
  },
  {
   "cell_type": "code",
   "execution_count": 101,
   "metadata": {},
   "outputs": [
    {
     "name": "stdout",
     "output_type": "stream",
     "text": [
      "Trained in  4 iterations\n"
     ]
    },
    {
     "data": {
      "image/png": "[encoded data removed]",
      "text/plain": [
       "<Figure size 360x360 with 1 Axes>"
      ]
     },
     "metadata": {},
     "output_type": "display_data"
    }
   ],
   "source": [
    "import matplotlib.pyplot as plt\n",
    "from sklearn import cluster, datasets, mixture\n",
    "from itertools import cycle, islice\n",
    "%matplotlib inline\n",
    "np.random.seed(1)\n",
    "\n",
    "#blobs = datasets.make_blobs(n_samples=50, centers=5, random_state=20)\n",
    "blobs = np.random.random((50, 2)) * 10, 1\n",
    "fig = plt.figure(figsize=(5, 5))\n",
    "\n",
    "X, y = blobs\n",
    "\n",
    "kmeans, iterations = KMeans() \\\n",
    "            .with_euclidian_distance() \\\n",
    "            .initialize_plus_plus(5, X) \\\n",
    "            .train(X)\n",
    "            \n",
    "print('Trained in ', iterations, 'iterations')\n",
    "    \n",
    "predictions = [kmeans.predict(x) for x in X]\n",
    "y_pred = [y for y, _ in predictions]\n",
    "\n",
    "colors = np.array(list(islice(cycle(['#377eb8', '#ff7f00', '#4daf4a',\n",
    "                                             '#f781bf', '#a65628', '#984ea3',\n",
    "                                             '#999999', '#e41a1c', '#dede00']),\n",
    "                                      int(max(y_pred) + 1))))\n",
    "\n",
    "plt.scatter(X[:, 0], X[:, 1], color=colors[y_pred])\n",
    "for i, centroid in enumerate(kmeans.centroids):\n",
    "    square = plt.Rectangle(centroid, 0.21, 0.2, color='black')\n",
    "    fig.gca().add_artist(square)\n",
    "\n",
    "plt.show()"
   ]
  },
  {
   "cell_type": "code",
   "execution_count": 149,
   "metadata": {},
   "outputs": [
    {
     "name": "stdout",
     "output_type": "stream",
     "text": [
      "Trained in  1 iterations\n"
     ]
    },
    {
     "data": {
      "image/png": "[encoded data removed]",
      "text/plain": [
       "<Figure size 360x360 with 1 Axes>"
      ]
     },
     "metadata": {},
     "output_type": "display_data"
    }
   ],
   "source": [
    "import matplotlib.pyplot as plt\n",
    "from sklearn import cluster, datasets, mixture\n",
    "from itertools import cycle, islice\n",
    "%matplotlib inline\n",
    "np.random.seed(1)\n",
    "\n",
    "blobs = datasets.make_blobs(n_samples=50, centers=5, random_state=20)\n",
    "#blobs = np.random.random((50, 2)) * 10, 1\n",
    "fig = plt.figure(figsize=(5, 5))\n",
    "\n",
    "X, y = blobs\n",
    "\n",
    "kmeans, iterations = XMeans() \\\n",
    "            .with_euclidian_distance() \\\n",
    "            .set_centroid_estimation_range(1, 5) \\\n",
    "            .train(X)\n",
    "            \n",
    "print('Trained in ', iterations, 'iterations')\n",
    "    \n",
    "predictions = [kmeans.predict(x) for x in X]\n",
    "y_pred = [y for y, _ in predictions]\n",
    "\n",
    "colors = np.array(list(islice(cycle(['#377eb8', '#ff7f00', '#4daf4a',\n",
    "                                             '#f781bf', '#a65628', '#984ea3',\n",
    "                                             '#999999', '#e41a1c', '#dede00']),\n",
    "                                      int(max(y_pred) + 1))))\n",
    "\n",
    "plt.scatter(X[:, 0], X[:, 1], color=colors[y_pred])\n",
    "for i, centroid in enumerate(kmeans.centroids):\n",
    "    square = plt.Rectangle(centroid, 0.21, 0.2, color='black')\n",
    "    fig.gca().add_artist(square)\n",
    "\n",
    "plt.show()"
   ]
  }
 ],
 "metadata": {
  "kernelspec": {
   "display_name": "Python 3",
   "language": "python",
   "name": "python3"
  },
  "language_info": {
   "codemirror_mode": {
    "name": "ipython",
    "version": 3
   },
   "file_extension": ".py",
   "mimetype": "text/x-python",
   "name": "python",
   "nbconvert_exporter": "python",
   "pygments_lexer": "ipython3",
   "version": "3.6.5"
  }
 },
 "nbformat": 4,
 "nbformat_minor": 2
}
